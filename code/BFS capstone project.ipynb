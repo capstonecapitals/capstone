{
 "cells": [
  {
   "cell_type": "markdown",
   "metadata": {},
   "source": [
    "## BFS capstone project\n",
    "\n",
    "The requirements of this project is to build predictive models to assess factors affecting credit risk using provided past data . This includes past customer demographic data and credit bureau data.\n",
    "\n",
    "The performace tag variable is the indicator for default (1: default)\n",
    "\n",
    "Two types of models need to be built \n",
    "1) using demographic data alone . (to understand the predictive power of application data)\n",
    "2) using both sets of data\n",
    "\n",
    "The following steps will be \n",
    "- Data Understanding\n",
    "- Data Cleaning\n",
    "- Data Preparation\n",
    "- Data Modelling\n",
    "- Model Evaluation"
   ]
  },
  {
   "cell_type": "markdown",
   "metadata": {},
   "source": [
    "### Data Understanding\n",
    "\n",
    "Importing the requisite libraries and apply univariate and multivariate analysis."
   ]
  },
  {
   "cell_type": "code",
   "execution_count": 5,
   "metadata": {},
   "outputs": [],
   "source": [
    "import warnings\n",
    "warnings.filterwarnings('ignore')"
   ]
  },
  {
   "cell_type": "code",
   "execution_count": 50,
   "metadata": {},
   "outputs": [
    {
     "name": "stdout",
     "output_type": "stream",
     "text": [
      "<class 'pandas.core.frame.DataFrame'>\n",
      "RangeIndex: 71295 entries, 0 to 71294\n",
      "Data columns (total 12 columns):\n",
      "Application ID                                 71295 non-null int64\n",
      "Age                                            71295 non-null int64\n",
      "Gender                                         71293 non-null object\n",
      "Marital Status (at the time of application)    71289 non-null object\n",
      "No of dependents                               71292 non-null float64\n",
      "Income                                         71295 non-null float64\n",
      "Education                                      71176 non-null object\n",
      "Profession                                     71281 non-null object\n",
      "Type of residence                              71287 non-null object\n",
      "No of months in current residence              71295 non-null int64\n",
      "No of months in current company                71295 non-null int64\n",
      "Performance Tag                                69870 non-null float64\n",
      "dtypes: float64(3), int64(4), object(5)\n",
      "memory usage: 5.2+ MB\n"
     ]
    }
   ],
   "source": [
    "import numpy as np\n",
    "import pandas as pd\n",
    "import matplotlib.pyplot as plt\n",
    "import seaborn as sns\n",
    "\n",
    "demographic = pd.read_csv(\"Demographic data.csv\", sep=\",\")\n",
    "demographic.info()"
   ]
  },
  {
   "cell_type": "code",
   "execution_count": 52,
   "metadata": {},
   "outputs": [
    {
     "name": "stdout",
     "output_type": "stream",
     "text": [
      "<class 'pandas.core.frame.DataFrame'>\n",
      "RangeIndex: 71295 entries, 0 to 71294\n",
      "Data columns (total 19 columns):\n",
      "Application ID                                                     71295 non-null int64\n",
      "No of times 90 DPD or worse in last 6 months                       71295 non-null int64\n",
      "No of times 60 DPD or worse in last 6 months                       71295 non-null int64\n",
      "No of times 30 DPD or worse in last 6 months                       71295 non-null int64\n",
      "No of times 90 DPD or worse in last 12 months                      71295 non-null int64\n",
      "No of times 60 DPD or worse in last 12 months                      71295 non-null int64\n",
      "No of times 30 DPD or worse in last 12 months                      71295 non-null int64\n",
      "Avgas CC Utilization in last 12 months                             70237 non-null float64\n",
      "No of trades opened in last 6 months                               71294 non-null float64\n",
      "No of trades opened in last 12 months                              71295 non-null int64\n",
      "No of PL trades opened in last 6 months                            71295 non-null int64\n",
      "No of PL trades opened in last 12 months                           71295 non-null int64\n",
      "No of Inquiries in last 6 months (excluding home & auto loans)     71295 non-null int64\n",
      "No of Inquiries in last 12 months (excluding home & auto loans)    71295 non-null int64\n",
      "Presence of open home loan                                         71023 non-null float64\n",
      "Outstanding Balance                                                71023 non-null float64\n",
      "Total No of Trades                                                 71295 non-null int64\n",
      "Presence of open auto loan                                         71295 non-null int64\n",
      "Performance Tag                                                    69870 non-null float64\n",
      "dtypes: float64(5), int64(14)\n",
      "memory usage: 10.3 MB\n"
     ]
    }
   ],
   "source": [
    "#demographic\n",
    "\n",
    "CreditBureau = pd.read_csv(\"Credit Bureau data.csv\", sep=\",\")\n",
    "CreditBureau.info()"
   ]
  },
  {
   "cell_type": "code",
   "execution_count": 53,
   "metadata": {},
   "outputs": [
    {
     "data": {
      "text/plain": [
       "Application ID                                    0\n",
       "Age                                               0\n",
       "Gender                                            2\n",
       "Marital Status (at the time of application)       6\n",
       "No of dependents                                  3\n",
       "Income                                            0\n",
       "Education                                       119\n",
       "Profession                                       14\n",
       "Type of residence                                 8\n",
       "No of months in current residence                 0\n",
       "No of months in current company                   0\n",
       "Performance Tag                                1425\n",
       "dtype: int64"
      ]
     },
     "execution_count": 53,
     "metadata": {},
     "output_type": "execute_result"
    }
   ],
   "source": [
    "#demographic\n",
    "#CreditBureau\n",
    "\n",
    "demographic.isnull().sum()"
   ]
  },
  {
   "cell_type": "code",
   "execution_count": 54,
   "metadata": {},
   "outputs": [
    {
     "data": {
      "text/plain": [
       "Application ID                                                        0\n",
       "No of times 90 DPD or worse in last 6 months                          0\n",
       "No of times 60 DPD or worse in last 6 months                          0\n",
       "No of times 30 DPD or worse in last 6 months                          0\n",
       "No of times 90 DPD or worse in last 12 months                         0\n",
       "No of times 60 DPD or worse in last 12 months                         0\n",
       "No of times 30 DPD or worse in last 12 months                         0\n",
       "Avgas CC Utilization in last 12 months                             1058\n",
       "No of trades opened in last 6 months                                  1\n",
       "No of trades opened in last 12 months                                 0\n",
       "No of PL trades opened in last 6 months                               0\n",
       "No of PL trades opened in last 12 months                              0\n",
       "No of Inquiries in last 6 months (excluding home & auto loans)        0\n",
       "No of Inquiries in last 12 months (excluding home & auto loans)       0\n",
       "Presence of open home loan                                          272\n",
       "Outstanding Balance                                                 272\n",
       "Total No of Trades                                                    0\n",
       "Presence of open auto loan                                            0\n",
       "Performance Tag                                                    1425\n",
       "dtype: int64"
      ]
     },
     "execution_count": 54,
     "metadata": {},
     "output_type": "execute_result"
    }
   ],
   "source": [
    "CreditBureau.isnull().sum()"
   ]
  },
  {
   "cell_type": "markdown",
   "metadata": {},
   "source": [
    "We can note that both datasets have 71295 data entries."
   ]
  },
  {
   "cell_type": "markdown",
   "metadata": {},
   "source": [
    "checking for duplicates in both files"
   ]
  },
  {
   "cell_type": "code",
   "execution_count": 55,
   "metadata": {},
   "outputs": [],
   "source": [
    "\n",
    "# Select duplicate rows except first occurrence based on all columns\n",
    "duplicateRowsDF = demographic[demographic.duplicated()]"
   ]
  },
  {
   "cell_type": "code",
   "execution_count": 56,
   "metadata": {},
   "outputs": [
    {
     "data": {
      "text/html": [
       "<div>\n",
       "<style scoped>\n",
       "    .dataframe tbody tr th:only-of-type {\n",
       "        vertical-align: middle;\n",
       "    }\n",
       "\n",
       "    .dataframe tbody tr th {\n",
       "        vertical-align: top;\n",
       "    }\n",
       "\n",
       "    .dataframe thead th {\n",
       "        text-align: right;\n",
       "    }\n",
       "</style>\n",
       "<table border=\"1\" class=\"dataframe\">\n",
       "  <thead>\n",
       "    <tr style=\"text-align: right;\">\n",
       "      <th></th>\n",
       "      <th>Application ID</th>\n",
       "      <th>Age</th>\n",
       "      <th>Gender</th>\n",
       "      <th>Marital Status (at the time of application)</th>\n",
       "      <th>No of dependents</th>\n",
       "      <th>Income</th>\n",
       "      <th>Education</th>\n",
       "      <th>Profession</th>\n",
       "      <th>Type of residence</th>\n",
       "      <th>No of months in current residence</th>\n",
       "      <th>No of months in current company</th>\n",
       "      <th>Performance Tag</th>\n",
       "    </tr>\n",
       "  </thead>\n",
       "  <tbody>\n",
       "  </tbody>\n",
       "</table>\n",
       "</div>"
      ],
      "text/plain": [
       "Empty DataFrame\n",
       "Columns: [Application ID, Age, Gender, Marital Status (at the time of application), No of dependents, Income, Education, Profession , Type of residence, No of months in current residence, No of months in current company, Performance Tag]\n",
       "Index: []"
      ]
     },
     "execution_count": 56,
     "metadata": {},
     "output_type": "execute_result"
    }
   ],
   "source": [
    "duplicateRowsDF.head()"
   ]
  },
  {
   "cell_type": "code",
   "execution_count": 57,
   "metadata": {},
   "outputs": [],
   "source": [
    "\n",
    "# Select duplicate rows except first occurrence based on all columns\n",
    "duplicateRowsDF = CreditBureau[CreditBureau.duplicated()]"
   ]
  },
  {
   "cell_type": "code",
   "execution_count": 58,
   "metadata": {},
   "outputs": [
    {
     "data": {
      "text/html": [
       "<div>\n",
       "<style scoped>\n",
       "    .dataframe tbody tr th:only-of-type {\n",
       "        vertical-align: middle;\n",
       "    }\n",
       "\n",
       "    .dataframe tbody tr th {\n",
       "        vertical-align: top;\n",
       "    }\n",
       "\n",
       "    .dataframe thead th {\n",
       "        text-align: right;\n",
       "    }\n",
       "</style>\n",
       "<table border=\"1\" class=\"dataframe\">\n",
       "  <thead>\n",
       "    <tr style=\"text-align: right;\">\n",
       "      <th></th>\n",
       "      <th>Application ID</th>\n",
       "      <th>No of times 90 DPD or worse in last 6 months</th>\n",
       "      <th>No of times 60 DPD or worse in last 6 months</th>\n",
       "      <th>No of times 30 DPD or worse in last 6 months</th>\n",
       "      <th>No of times 90 DPD or worse in last 12 months</th>\n",
       "      <th>No of times 60 DPD or worse in last 12 months</th>\n",
       "      <th>No of times 30 DPD or worse in last 12 months</th>\n",
       "      <th>Avgas CC Utilization in last 12 months</th>\n",
       "      <th>No of trades opened in last 6 months</th>\n",
       "      <th>No of trades opened in last 12 months</th>\n",
       "      <th>No of PL trades opened in last 6 months</th>\n",
       "      <th>No of PL trades opened in last 12 months</th>\n",
       "      <th>No of Inquiries in last 6 months (excluding home &amp; auto loans)</th>\n",
       "      <th>No of Inquiries in last 12 months (excluding home &amp; auto loans)</th>\n",
       "      <th>Presence of open home loan</th>\n",
       "      <th>Outstanding Balance</th>\n",
       "      <th>Total No of Trades</th>\n",
       "      <th>Presence of open auto loan</th>\n",
       "      <th>Performance Tag</th>\n",
       "    </tr>\n",
       "  </thead>\n",
       "  <tbody>\n",
       "  </tbody>\n",
       "</table>\n",
       "</div>"
      ],
      "text/plain": [
       "Empty DataFrame\n",
       "Columns: [Application ID, No of times 90 DPD or worse in last 6 months, No of times 60 DPD or worse in last 6 months, No of times 30 DPD or worse in last 6 months, No of times 90 DPD or worse in last 12 months, No of times 60 DPD or worse in last 12 months, No of times 30 DPD or worse in last 12 months, Avgas CC Utilization in last 12 months, No of trades opened in last 6 months, No of trades opened in last 12 months, No of PL trades opened in last 6 months, No of PL trades opened in last 12 months, No of Inquiries in last 6 months (excluding home & auto loans), No of Inquiries in last 12 months (excluding home & auto loans), Presence of open home loan, Outstanding Balance, Total No of Trades, Presence of open auto loan, Performance Tag]\n",
       "Index: []"
      ]
     },
     "execution_count": 58,
     "metadata": {},
     "output_type": "execute_result"
    }
   ],
   "source": [
    "duplicateRowsDF.head()"
   ]
  },
  {
   "cell_type": "code",
   "execution_count": 59,
   "metadata": {},
   "outputs": [],
   "source": [
    "#No duplicate rows in both files "
   ]
  },
  {
   "cell_type": "code",
   "execution_count": 60,
   "metadata": {},
   "outputs": [
    {
     "name": "stdout",
     "output_type": "stream",
     "text": [
      "['0' '0' '0' ... '0' '0' '0']\n"
     ]
    }
   ],
   "source": [
    "#Compare application id in the two files\n",
    "\n",
    "l = np.where(demographic['Application ID'] == CreditBureau['Application ID'], '0', '1')\n",
    "print (l)\n",
    "\n"
   ]
  },
  {
   "cell_type": "code",
   "execution_count": 61,
   "metadata": {},
   "outputs": [
    {
     "name": "stdout",
     "output_type": "stream",
     "text": [
      "0\n"
     ]
    }
   ],
   "source": [
    "\n",
    "i=0\n",
    "\n",
    "\n",
    "for element in l:\n",
    "        if (element != '0'):\n",
    "            i= i+1\n",
    "print (i)            "
   ]
  },
  {
   "cell_type": "code",
   "execution_count": 62,
   "metadata": {},
   "outputs": [
    {
     "name": "stdout",
     "output_type": "stream",
     "text": [
      "['0' '0' '0' ... '0' '0' '0']\n"
     ]
    }
   ],
   "source": [
    "#Compare performance tag in the two files\n",
    "\n",
    "l = np.where(demographic['Performance Tag'] == CreditBureau['Performance Tag'], '0', '1')\n",
    "print (l)\n",
    "\n"
   ]
  },
  {
   "cell_type": "code",
   "execution_count": 63,
   "metadata": {},
   "outputs": [
    {
     "name": "stdout",
     "output_type": "stream",
     "text": [
      "1425\n"
     ]
    }
   ],
   "source": [
    "\n",
    "i=0\n",
    "\n",
    "\n",
    "for element in l:\n",
    "        if (element != '0'):\n",
    "            i= i+1\n",
    "print (i)  \n",
    "\n",
    "#Corresponding to 1425 blank performace tags.\n",
    "# i.e. .02% of data dropiing them from both files"
   ]
  },
  {
   "cell_type": "code",
   "execution_count": 64,
   "metadata": {},
   "outputs": [],
   "source": [
    "#demographic = demographic[pd.notnull(demographic['Performance Tag'])]\n"
   ]
  },
  {
   "cell_type": "code",
   "execution_count": 65,
   "metadata": {},
   "outputs": [],
   "source": [
    "#CreditBureau = CreditBureau[pd.notnull(CreditBureau['Performance Tag'])]"
   ]
  },
  {
   "cell_type": "code",
   "execution_count": 66,
   "metadata": {},
   "outputs": [
    {
     "name": "stdout",
     "output_type": "stream",
     "text": [
      "['0' '0' '0' ... '0' '0' '0']\n"
     ]
    }
   ],
   "source": [
    "#Compare performance tag in the two files\n",
    "\n",
    "l = np.where(demographic['Performance Tag'] == CreditBureau['Performance Tag'], '0', '1')\n",
    "print (l)\n",
    "\n"
   ]
  },
  {
   "cell_type": "code",
   "execution_count": 67,
   "metadata": {},
   "outputs": [
    {
     "name": "stdout",
     "output_type": "stream",
     "text": [
      "1425\n"
     ]
    }
   ],
   "source": [
    "\n",
    "i=0\n",
    "\n",
    "\n",
    "for element in l:\n",
    "        if (element != '0'):\n",
    "            i= i+1\n",
    "print (i)  \n",
    "\n"
   ]
  },
  {
   "cell_type": "code",
   "execution_count": 68,
   "metadata": {},
   "outputs": [
    {
     "data": {
      "text/plain": [
       "0.0    66922\n",
       "1.0     2948\n",
       "Name: Performance Tag, dtype: int64"
      ]
     },
     "execution_count": 68,
     "metadata": {},
     "output_type": "execute_result"
    }
   ],
   "source": [
    "demographic['Performance Tag'].value_counts()"
   ]
  },
  {
   "cell_type": "code",
   "execution_count": 69,
   "metadata": {},
   "outputs": [
    {
     "data": {
      "text/plain": [
       "0.0    66922\n",
       "1.0     2948\n",
       "Name: Performance Tag, dtype: int64"
      ]
     },
     "execution_count": 69,
     "metadata": {},
     "output_type": "execute_result"
    }
   ],
   "source": [
    "CreditBureau['Performance Tag'].value_counts()"
   ]
  },
  {
   "cell_type": "code",
   "execution_count": 70,
   "metadata": {},
   "outputs": [
    {
     "data": {
      "text/plain": [
       "Application ID                                                        0\n",
       "No of times 90 DPD or worse in last 6 months                          0\n",
       "No of times 60 DPD or worse in last 6 months                          0\n",
       "No of times 30 DPD or worse in last 6 months                          0\n",
       "No of times 90 DPD or worse in last 12 months                         0\n",
       "No of times 60 DPD or worse in last 12 months                         0\n",
       "No of times 30 DPD or worse in last 12 months                         0\n",
       "Avgas CC Utilization in last 12 months                             1058\n",
       "No of trades opened in last 6 months                                  1\n",
       "No of trades opened in last 12 months                                 0\n",
       "No of PL trades opened in last 6 months                               0\n",
       "No of PL trades opened in last 12 months                              0\n",
       "No of Inquiries in last 6 months (excluding home & auto loans)        0\n",
       "No of Inquiries in last 12 months (excluding home & auto loans)       0\n",
       "Presence of open home loan                                          272\n",
       "Outstanding Balance                                                 272\n",
       "Total No of Trades                                                    0\n",
       "Presence of open auto loan                                            0\n",
       "Performance Tag                                                    1425\n",
       "dtype: int64"
      ]
     },
     "execution_count": 70,
     "metadata": {},
     "output_type": "execute_result"
    }
   ],
   "source": [
    "CreditBureau.isnull().sum()"
   ]
  },
  {
   "cell_type": "code",
   "execution_count": 71,
   "metadata": {},
   "outputs": [
    {
     "data": {
      "text/plain": [
       "Application ID                                    0\n",
       "Age                                               0\n",
       "Gender                                            2\n",
       "Marital Status (at the time of application)       6\n",
       "No of dependents                                  3\n",
       "Income                                            0\n",
       "Education                                       119\n",
       "Profession                                       14\n",
       "Type of residence                                 8\n",
       "No of months in current residence                 0\n",
       "No of months in current company                   0\n",
       "Performance Tag                                1425\n",
       "dtype: int64"
      ]
     },
     "execution_count": 71,
     "metadata": {},
     "output_type": "execute_result"
    }
   ],
   "source": [
    "demographic.isnull().sum()"
   ]
  },
  {
   "cell_type": "code",
   "execution_count": null,
   "metadata": {},
   "outputs": [],
   "source": []
  },
  {
   "cell_type": "code",
   "execution_count": 72,
   "metadata": {},
   "outputs": [
    {
     "data": {
      "text/html": [
       "<div>\n",
       "<style scoped>\n",
       "    .dataframe tbody tr th:only-of-type {\n",
       "        vertical-align: middle;\n",
       "    }\n",
       "\n",
       "    .dataframe tbody tr th {\n",
       "        vertical-align: top;\n",
       "    }\n",
       "\n",
       "    .dataframe thead th {\n",
       "        text-align: right;\n",
       "    }\n",
       "</style>\n",
       "<table border=\"1\" class=\"dataframe\">\n",
       "  <thead>\n",
       "    <tr style=\"text-align: right;\">\n",
       "      <th></th>\n",
       "      <th>Application ID</th>\n",
       "      <th>90DPD6</th>\n",
       "      <th>60DPD6</th>\n",
       "      <th>30DPD6</th>\n",
       "      <th>90DPD12</th>\n",
       "      <th>60DPD12</th>\n",
       "      <th>30DPD12</th>\n",
       "      <th>CCUtil</th>\n",
       "      <th>tradeOpen6</th>\n",
       "      <th>tradeOpen12</th>\n",
       "      <th>PLtradeOpen6</th>\n",
       "      <th>PLtradeOpen12</th>\n",
       "      <th>NoInq6</th>\n",
       "      <th>NoInq12</th>\n",
       "      <th>OpenHomeLoan</th>\n",
       "      <th>OutstandBalance</th>\n",
       "      <th>TotTrades</th>\n",
       "      <th>OpenAutoLoan</th>\n",
       "      <th>Perf_Tag</th>\n",
       "    </tr>\n",
       "  </thead>\n",
       "  <tbody>\n",
       "  </tbody>\n",
       "</table>\n",
       "</div>"
      ],
      "text/plain": [
       "Empty DataFrame\n",
       "Columns: [Application ID, 90DPD6, 60DPD6, 30DPD6, 90DPD12, 60DPD12, 30DPD12, CCUtil, tradeOpen6, tradeOpen12, PLtradeOpen6, PLtradeOpen12, NoInq6, NoInq12, OpenHomeLoan, OutstandBalance, TotTrades, OpenAutoLoan, Perf_Tag]\n",
       "Index: []"
      ]
     },
     "execution_count": 72,
     "metadata": {},
     "output_type": "execute_result"
    }
   ],
   "source": [
    "#renaming column names of both files for ease of use\n",
    "#CreditBureau\n",
    "\n",
    "\n",
    "df = pd.DataFrame(columns=list(CreditBureau.columns.values))\n",
    "\n",
    "new_cols=['90DPD6','60DPD6', '30DPD6', '90DPD12', '60DPD12', '30DPD12',\n",
    "         'CCUtil', 'tradeOpen6', 'tradeOpen12', 'PLtradeOpen6', 'PLtradeOpen12',\n",
    "         'NoInq6', 'NoInq12', 'OpenHomeLoan', 'OutstandBalance', 'TotTrades',\n",
    "         'OpenAutoLoan', 'Perf_Tag']\n",
    "df.rename(columns=dict(zip(df.columns[1:], new_cols)),inplace=True)\n",
    "\n",
    "df"
   ]
  },
  {
   "cell_type": "code",
   "execution_count": 73,
   "metadata": {},
   "outputs": [],
   "source": [
    "CreditBureau.columns=df.columns"
   ]
  },
  {
   "cell_type": "code",
   "execution_count": 74,
   "metadata": {},
   "outputs": [
    {
     "data": {
      "text/plain": [
       "array(['Application ID', '90DPD6', '60DPD6', '30DPD6', '90DPD12',\n",
       "       '60DPD12', '30DPD12', 'CCUtil', 'tradeOpen6', 'tradeOpen12',\n",
       "       'PLtradeOpen6', 'PLtradeOpen12', 'NoInq6', 'NoInq12',\n",
       "       'OpenHomeLoan', 'OutstandBalance', 'TotTrades', 'OpenAutoLoan',\n",
       "       'Perf_Tag'], dtype=object)"
      ]
     },
     "execution_count": 74,
     "metadata": {},
     "output_type": "execute_result"
    }
   ],
   "source": [
    "CreditBureau.columns.values"
   ]
  },
  {
   "cell_type": "code",
   "execution_count": 75,
   "metadata": {},
   "outputs": [
    {
     "data": {
      "text/html": [
       "<div>\n",
       "<style scoped>\n",
       "    .dataframe tbody tr th:only-of-type {\n",
       "        vertical-align: middle;\n",
       "    }\n",
       "\n",
       "    .dataframe tbody tr th {\n",
       "        vertical-align: top;\n",
       "    }\n",
       "\n",
       "    .dataframe thead th {\n",
       "        text-align: right;\n",
       "    }\n",
       "</style>\n",
       "<table border=\"1\" class=\"dataframe\">\n",
       "  <thead>\n",
       "    <tr style=\"text-align: right;\">\n",
       "      <th></th>\n",
       "      <th>Application ID</th>\n",
       "      <th>Age</th>\n",
       "      <th>Gender</th>\n",
       "      <th>Mar_status</th>\n",
       "      <th>No of dependents</th>\n",
       "      <th>Income</th>\n",
       "      <th>Education</th>\n",
       "      <th>Profession</th>\n",
       "      <th>Typ_residence</th>\n",
       "      <th>NoMonthsCurrResidence</th>\n",
       "      <th>NoMonthsCurrCompany</th>\n",
       "      <th>Perf_Tag</th>\n",
       "    </tr>\n",
       "  </thead>\n",
       "  <tbody>\n",
       "  </tbody>\n",
       "</table>\n",
       "</div>"
      ],
      "text/plain": [
       "Empty DataFrame\n",
       "Columns: [Application ID, Age, Gender, Mar_status, No of dependents, Income, Education, Profession , Typ_residence, NoMonthsCurrResidence, NoMonthsCurrCompany, Perf_Tag]\n",
       "Index: []"
      ]
     },
     "execution_count": 75,
     "metadata": {},
     "output_type": "execute_result"
    }
   ],
   "source": [
    "#demographic\n",
    "\n",
    "\n",
    "df = pd.DataFrame(columns=list(demographic.columns.values))\n",
    "\n",
    "new_cols=['Mar_status','NoDependents']\n",
    "df.rename(columns=dict(zip(df.columns[3:4], new_cols)),inplace=True)\n",
    "\n",
    "\n",
    "new_cols=['Typ_residence','NoMonthsCurrResidence', 'NoMonthsCurrCompany', 'Perf_Tag']\n",
    "df.rename(columns=dict(zip(df.columns[8:], new_cols)),inplace=True)\n",
    "demographic.columns=df.columns\n",
    "df"
   ]
  },
  {
   "cell_type": "code",
   "execution_count": 76,
   "metadata": {},
   "outputs": [],
   "source": [
    "demographic.columns=df.columns"
   ]
  },
  {
   "cell_type": "code",
   "execution_count": 77,
   "metadata": {},
   "outputs": [
    {
     "data": {
      "text/plain": [
       "array(['Application ID', 'Age', 'Gender', 'Mar_status',\n",
       "       'No of dependents', 'Income', 'Education', 'Profession ',\n",
       "       'Typ_residence', 'NoMonthsCurrResidence', 'NoMonthsCurrCompany',\n",
       "       'Perf_Tag'], dtype=object)"
      ]
     },
     "execution_count": 77,
     "metadata": {},
     "output_type": "execute_result"
    }
   ],
   "source": [
    "demographic.columns.values"
   ]
  },
  {
   "cell_type": "code",
   "execution_count": 78,
   "metadata": {},
   "outputs": [
    {
     "data": {
      "text/html": [
       "<div>\n",
       "<style scoped>\n",
       "    .dataframe tbody tr th:only-of-type {\n",
       "        vertical-align: middle;\n",
       "    }\n",
       "\n",
       "    .dataframe tbody tr th {\n",
       "        vertical-align: top;\n",
       "    }\n",
       "\n",
       "    .dataframe thead th {\n",
       "        text-align: right;\n",
       "    }\n",
       "</style>\n",
       "<table border=\"1\" class=\"dataframe\">\n",
       "  <thead>\n",
       "    <tr style=\"text-align: right;\">\n",
       "      <th></th>\n",
       "      <th>Application ID</th>\n",
       "      <th>Age</th>\n",
       "      <th>Gender</th>\n",
       "      <th>Mar_status</th>\n",
       "      <th>No of dependents</th>\n",
       "      <th>Income</th>\n",
       "      <th>Education</th>\n",
       "      <th>Profession</th>\n",
       "      <th>Typ_residence</th>\n",
       "      <th>NoMonthsCurrResidence</th>\n",
       "      <th>...</th>\n",
       "      <th>tradeOpen12</th>\n",
       "      <th>PLtradeOpen6</th>\n",
       "      <th>PLtradeOpen12</th>\n",
       "      <th>NoInq6</th>\n",
       "      <th>NoInq12</th>\n",
       "      <th>OpenHomeLoan</th>\n",
       "      <th>OutstandBalance</th>\n",
       "      <th>TotTrades</th>\n",
       "      <th>OpenAutoLoan</th>\n",
       "      <th>Perf_Tag_y</th>\n",
       "    </tr>\n",
       "  </thead>\n",
       "  <tbody>\n",
       "    <tr>\n",
       "      <th>0</th>\n",
       "      <td>954457215</td>\n",
       "      <td>48</td>\n",
       "      <td>F</td>\n",
       "      <td>Married</td>\n",
       "      <td>2.0</td>\n",
       "      <td>40.0</td>\n",
       "      <td>Bachelor</td>\n",
       "      <td>SAL</td>\n",
       "      <td>Rented</td>\n",
       "      <td>113</td>\n",
       "      <td>...</td>\n",
       "      <td>2</td>\n",
       "      <td>0</td>\n",
       "      <td>0</td>\n",
       "      <td>0</td>\n",
       "      <td>0</td>\n",
       "      <td>1.0</td>\n",
       "      <td>2999395.0</td>\n",
       "      <td>4</td>\n",
       "      <td>0</td>\n",
       "      <td>0.0</td>\n",
       "    </tr>\n",
       "    <tr>\n",
       "      <th>1</th>\n",
       "      <td>432830445</td>\n",
       "      <td>31</td>\n",
       "      <td>M</td>\n",
       "      <td>Married</td>\n",
       "      <td>4.0</td>\n",
       "      <td>55.0</td>\n",
       "      <td>Professional</td>\n",
       "      <td>SE_PROF</td>\n",
       "      <td>Rented</td>\n",
       "      <td>112</td>\n",
       "      <td>...</td>\n",
       "      <td>2</td>\n",
       "      <td>0</td>\n",
       "      <td>0</td>\n",
       "      <td>0</td>\n",
       "      <td>0</td>\n",
       "      <td>0.0</td>\n",
       "      <td>3078.0</td>\n",
       "      <td>5</td>\n",
       "      <td>0</td>\n",
       "      <td>0.0</td>\n",
       "    </tr>\n",
       "    <tr>\n",
       "      <th>2</th>\n",
       "      <td>941387308</td>\n",
       "      <td>32</td>\n",
       "      <td>M</td>\n",
       "      <td>Single</td>\n",
       "      <td>2.0</td>\n",
       "      <td>46.0</td>\n",
       "      <td>Bachelor</td>\n",
       "      <td>SE_PROF</td>\n",
       "      <td>Rented</td>\n",
       "      <td>104</td>\n",
       "      <td>...</td>\n",
       "      <td>0</td>\n",
       "      <td>0</td>\n",
       "      <td>0</td>\n",
       "      <td>0</td>\n",
       "      <td>0</td>\n",
       "      <td>1.0</td>\n",
       "      <td>3004972.0</td>\n",
       "      <td>2</td>\n",
       "      <td>0</td>\n",
       "      <td>0.0</td>\n",
       "    </tr>\n",
       "    <tr>\n",
       "      <th>3</th>\n",
       "      <td>392161677</td>\n",
       "      <td>43</td>\n",
       "      <td>M</td>\n",
       "      <td>Married</td>\n",
       "      <td>1.0</td>\n",
       "      <td>53.0</td>\n",
       "      <td>Bachelor</td>\n",
       "      <td>SE</td>\n",
       "      <td>Rented</td>\n",
       "      <td>94</td>\n",
       "      <td>...</td>\n",
       "      <td>1</td>\n",
       "      <td>0</td>\n",
       "      <td>0</td>\n",
       "      <td>0</td>\n",
       "      <td>0</td>\n",
       "      <td>1.0</td>\n",
       "      <td>3355373.0</td>\n",
       "      <td>4</td>\n",
       "      <td>1</td>\n",
       "      <td>0.0</td>\n",
       "    </tr>\n",
       "    <tr>\n",
       "      <th>4</th>\n",
       "      <td>182011211</td>\n",
       "      <td>35</td>\n",
       "      <td>F</td>\n",
       "      <td>Married</td>\n",
       "      <td>5.0</td>\n",
       "      <td>44.0</td>\n",
       "      <td>Professional</td>\n",
       "      <td>SAL</td>\n",
       "      <td>Rented</td>\n",
       "      <td>112</td>\n",
       "      <td>...</td>\n",
       "      <td>1</td>\n",
       "      <td>0</td>\n",
       "      <td>0</td>\n",
       "      <td>0</td>\n",
       "      <td>0</td>\n",
       "      <td>1.0</td>\n",
       "      <td>3014283.0</td>\n",
       "      <td>4</td>\n",
       "      <td>0</td>\n",
       "      <td>0.0</td>\n",
       "    </tr>\n",
       "  </tbody>\n",
       "</table>\n",
       "<p>5 rows × 30 columns</p>\n",
       "</div>"
      ],
      "text/plain": [
       "   Application ID  Age Gender Mar_status  No of dependents  Income  \\\n",
       "0       954457215   48      F    Married               2.0    40.0   \n",
       "1       432830445   31      M    Married               4.0    55.0   \n",
       "2       941387308   32      M     Single               2.0    46.0   \n",
       "3       392161677   43      M    Married               1.0    53.0   \n",
       "4       182011211   35      F    Married               5.0    44.0   \n",
       "\n",
       "      Education Profession  Typ_residence  NoMonthsCurrResidence     ...      \\\n",
       "0      Bachelor         SAL        Rented                    113     ...       \n",
       "1  Professional     SE_PROF        Rented                    112     ...       \n",
       "2      Bachelor     SE_PROF        Rented                    104     ...       \n",
       "3      Bachelor          SE        Rented                     94     ...       \n",
       "4  Professional         SAL        Rented                    112     ...       \n",
       "\n",
       "   tradeOpen12  PLtradeOpen6  PLtradeOpen12  NoInq6  NoInq12  OpenHomeLoan  \\\n",
       "0            2             0              0       0        0           1.0   \n",
       "1            2             0              0       0        0           0.0   \n",
       "2            0             0              0       0        0           1.0   \n",
       "3            1             0              0       0        0           1.0   \n",
       "4            1             0              0       0        0           1.0   \n",
       "\n",
       "   OutstandBalance  TotTrades  OpenAutoLoan  Perf_Tag_y  \n",
       "0        2999395.0          4             0         0.0  \n",
       "1           3078.0          5             0         0.0  \n",
       "2        3004972.0          2             0         0.0  \n",
       "3        3355373.0          4             1         0.0  \n",
       "4        3014283.0          4             0         0.0  \n",
       "\n",
       "[5 rows x 30 columns]"
      ]
     },
     "execution_count": 78,
     "metadata": {},
     "output_type": "execute_result"
    }
   ],
   "source": [
    "#Create a merged file\n",
    "\n",
    "final_merged = pd.merge(demographic,\n",
    "                 CreditBureau,\n",
    "                 on='Application ID')\n",
    "final_merged.head()"
   ]
  },
  {
   "cell_type": "code",
   "execution_count": 79,
   "metadata": {},
   "outputs": [
    {
     "data": {
      "text/plain": [
       "Application ID              0\n",
       "Age                         0\n",
       "Gender                      2\n",
       "Mar_status                  6\n",
       "No of dependents            3\n",
       "Income                      0\n",
       "Education                 119\n",
       "Profession                 14\n",
       "Typ_residence               8\n",
       "NoMonthsCurrResidence       0\n",
       "NoMonthsCurrCompany         0\n",
       "Perf_Tag_x               1425\n",
       "90DPD6                      0\n",
       "60DPD6                      0\n",
       "30DPD6                      0\n",
       "90DPD12                     0\n",
       "60DPD12                     0\n",
       "30DPD12                     0\n",
       "CCUtil                   1058\n",
       "tradeOpen6                  1\n",
       "tradeOpen12                 0\n",
       "PLtradeOpen6                0\n",
       "PLtradeOpen12               0\n",
       "NoInq6                      0\n",
       "NoInq12                     0\n",
       "OpenHomeLoan              272\n",
       "OutstandBalance           272\n",
       "TotTrades                   0\n",
       "OpenAutoLoan                0\n",
       "Perf_Tag_y               1425\n",
       "dtype: int64"
      ]
     },
     "execution_count": 79,
     "metadata": {},
     "output_type": "execute_result"
    }
   ],
   "source": [
    "final_merged.isnull().sum()"
   ]
  },
  {
   "cell_type": "code",
   "execution_count": 80,
   "metadata": {},
   "outputs": [
    {
     "data": {
      "text/html": [
       "<div>\n",
       "<style scoped>\n",
       "    .dataframe tbody tr th:only-of-type {\n",
       "        vertical-align: middle;\n",
       "    }\n",
       "\n",
       "    .dataframe tbody tr th {\n",
       "        vertical-align: top;\n",
       "    }\n",
       "\n",
       "    .dataframe thead th {\n",
       "        text-align: right;\n",
       "    }\n",
       "</style>\n",
       "<table border=\"1\" class=\"dataframe\">\n",
       "  <thead>\n",
       "    <tr style=\"text-align: right;\">\n",
       "      <th></th>\n",
       "      <th>Application ID</th>\n",
       "      <th>90DPD6</th>\n",
       "      <th>60DPD6</th>\n",
       "      <th>30DPD6</th>\n",
       "      <th>90DPD12</th>\n",
       "      <th>60DPD12</th>\n",
       "      <th>30DPD12</th>\n",
       "      <th>CCUtil</th>\n",
       "      <th>tradeOpen6</th>\n",
       "      <th>tradeOpen12</th>\n",
       "      <th>PLtradeOpen6</th>\n",
       "      <th>PLtradeOpen12</th>\n",
       "      <th>NoInq6</th>\n",
       "      <th>NoInq12</th>\n",
       "      <th>OpenHomeLoan</th>\n",
       "      <th>OutstandBalance</th>\n",
       "      <th>TotTrades</th>\n",
       "      <th>OpenAutoLoan</th>\n",
       "      <th>Perf_Tag</th>\n",
       "      <th>hit_flag</th>\n",
       "    </tr>\n",
       "  </thead>\n",
       "  <tbody>\n",
       "    <tr>\n",
       "      <th>0</th>\n",
       "      <td>954457215</td>\n",
       "      <td>0</td>\n",
       "      <td>0</td>\n",
       "      <td>0</td>\n",
       "      <td>0</td>\n",
       "      <td>0</td>\n",
       "      <td>0</td>\n",
       "      <td>4.0</td>\n",
       "      <td>1.0</td>\n",
       "      <td>2</td>\n",
       "      <td>0</td>\n",
       "      <td>0</td>\n",
       "      <td>0</td>\n",
       "      <td>0</td>\n",
       "      <td>1.0</td>\n",
       "      <td>2999395.0</td>\n",
       "      <td>4</td>\n",
       "      <td>0</td>\n",
       "      <td>0.0</td>\n",
       "      <td>0</td>\n",
       "    </tr>\n",
       "    <tr>\n",
       "      <th>1</th>\n",
       "      <td>432830445</td>\n",
       "      <td>0</td>\n",
       "      <td>0</td>\n",
       "      <td>0</td>\n",
       "      <td>0</td>\n",
       "      <td>0</td>\n",
       "      <td>0</td>\n",
       "      <td>3.0</td>\n",
       "      <td>1.0</td>\n",
       "      <td>2</td>\n",
       "      <td>0</td>\n",
       "      <td>0</td>\n",
       "      <td>0</td>\n",
       "      <td>0</td>\n",
       "      <td>0.0</td>\n",
       "      <td>3078.0</td>\n",
       "      <td>5</td>\n",
       "      <td>0</td>\n",
       "      <td>0.0</td>\n",
       "      <td>0</td>\n",
       "    </tr>\n",
       "    <tr>\n",
       "      <th>2</th>\n",
       "      <td>941387308</td>\n",
       "      <td>0</td>\n",
       "      <td>0</td>\n",
       "      <td>0</td>\n",
       "      <td>0</td>\n",
       "      <td>0</td>\n",
       "      <td>0</td>\n",
       "      <td>7.0</td>\n",
       "      <td>0.0</td>\n",
       "      <td>0</td>\n",
       "      <td>0</td>\n",
       "      <td>0</td>\n",
       "      <td>0</td>\n",
       "      <td>0</td>\n",
       "      <td>1.0</td>\n",
       "      <td>3004972.0</td>\n",
       "      <td>2</td>\n",
       "      <td>0</td>\n",
       "      <td>0.0</td>\n",
       "      <td>0</td>\n",
       "    </tr>\n",
       "    <tr>\n",
       "      <th>3</th>\n",
       "      <td>392161677</td>\n",
       "      <td>0</td>\n",
       "      <td>0</td>\n",
       "      <td>0</td>\n",
       "      <td>0</td>\n",
       "      <td>0</td>\n",
       "      <td>0</td>\n",
       "      <td>11.0</td>\n",
       "      <td>1.0</td>\n",
       "      <td>1</td>\n",
       "      <td>0</td>\n",
       "      <td>0</td>\n",
       "      <td>0</td>\n",
       "      <td>0</td>\n",
       "      <td>1.0</td>\n",
       "      <td>3355373.0</td>\n",
       "      <td>4</td>\n",
       "      <td>1</td>\n",
       "      <td>0.0</td>\n",
       "      <td>0</td>\n",
       "    </tr>\n",
       "    <tr>\n",
       "      <th>4</th>\n",
       "      <td>182011211</td>\n",
       "      <td>0</td>\n",
       "      <td>0</td>\n",
       "      <td>0</td>\n",
       "      <td>0</td>\n",
       "      <td>0</td>\n",
       "      <td>0</td>\n",
       "      <td>12.0</td>\n",
       "      <td>0.0</td>\n",
       "      <td>1</td>\n",
       "      <td>0</td>\n",
       "      <td>0</td>\n",
       "      <td>0</td>\n",
       "      <td>0</td>\n",
       "      <td>1.0</td>\n",
       "      <td>3014283.0</td>\n",
       "      <td>4</td>\n",
       "      <td>0</td>\n",
       "      <td>0.0</td>\n",
       "      <td>0</td>\n",
       "    </tr>\n",
       "  </tbody>\n",
       "</table>\n",
       "</div>"
      ],
      "text/plain": [
       "   Application ID  90DPD6  60DPD6  30DPD6  90DPD12  60DPD12  30DPD12  CCUtil  \\\n",
       "0       954457215       0       0       0        0        0        0     4.0   \n",
       "1       432830445       0       0       0        0        0        0     3.0   \n",
       "2       941387308       0       0       0        0        0        0     7.0   \n",
       "3       392161677       0       0       0        0        0        0    11.0   \n",
       "4       182011211       0       0       0        0        0        0    12.0   \n",
       "\n",
       "   tradeOpen6  tradeOpen12  PLtradeOpen6  PLtradeOpen12  NoInq6  NoInq12  \\\n",
       "0         1.0            2             0              0       0        0   \n",
       "1         1.0            2             0              0       0        0   \n",
       "2         0.0            0             0              0       0        0   \n",
       "3         1.0            1             0              0       0        0   \n",
       "4         0.0            1             0              0       0        0   \n",
       "\n",
       "   OpenHomeLoan  OutstandBalance  TotTrades  OpenAutoLoan  Perf_Tag  hit_flag  \n",
       "0           1.0        2999395.0          4             0       0.0         0  \n",
       "1           0.0           3078.0          5             0       0.0         0  \n",
       "2           1.0        3004972.0          2             0       0.0         0  \n",
       "3           1.0        3355373.0          4             1       0.0         0  \n",
       "4           1.0        3014283.0          4             0       0.0         0  "
      ]
     },
     "execution_count": 80,
     "metadata": {},
     "output_type": "execute_result"
    }
   ],
   "source": [
    "# Looking at the two inputfiles separately.\n",
    "#1) Credit bureau file. identify records whose avg credit card utilisation is blank and all other fields are 0s. \n",
    "#These represent records with no hit in credit bureau\n",
    "#Creating a new field: to represnt no hit/ no other credit card from Credit bureau data\n",
    "#0 - default value\n",
    "#1 - no hit\n",
    "#2 - no other credit card\n",
    "\n",
    "\n",
    "    \n",
    "def f (nintyDPD6,sixtyDPD6,thirtyDPD6,nintyDPD12,sixtyDPD12,thirtyDPD12,CCutil,tr6,tr12,PLtr6,PLtr12,inq6,\n",
    "      inq12,openhomeloan,OutBal,TotTrades,openautoloan):\n",
    "\n",
    "    if (np.isnan(CCutil)) :\n",
    "        if (nintyDPD6 == 0 and sixtyDPD6 == 0 and thirtyDPD6 == 0 and\n",
    "            nintyDPD12 == 0 and sixtyDPD12 == 0 and thirtyDPD12 == 0 \n",
    "            and tr6 == 0 and tr12 == 0 and \n",
    "            PLtr6 == 0 and PLtr12 == 0 and inq6 == 0 and inq12 == 0 and \n",
    "            openhomeloan == 0 and OutBal == 0 and \n",
    "            TotTrades == 0 and openautoloan == 0):\n",
    "        \n",
    "           return 1 \n",
    "        else:\n",
    "            return 2\n",
    "    else:\n",
    "        return 0\n",
    "\n",
    "#x = f(0,0,0,0,0,0,float('nan'),0,0,0,0,0,0,0,0,0,0)       \n",
    "        \n",
    "CreditBureau['hit_flag'] = CreditBureau.apply(lambda row:f(row['90DPD6'],row['60DPD6'], row['30DPD6'],\n",
    "                                                           row['90DPD12'], row['60DPD12'], row['30DPD12'],\n",
    "                                                           row['CCUtil'], row['tradeOpen6'], row['tradeOpen12'],\n",
    "                                                           row['PLtradeOpen6'], row['PLtradeOpen12'], row['NoInq6'],\n",
    "                                                           row['NoInq12'], row['OpenHomeLoan'], row['OutstandBalance'],\n",
    "                                                           row['TotTrades'], row['OpenAutoLoan']),axis=1)\n",
    "                                                          \n",
    "                                            \n",
    "    \n",
    "CreditBureau.head()"
   ]
  },
  {
   "cell_type": "code",
   "execution_count": 81,
   "metadata": {},
   "outputs": [],
   "source": [
    "#Replacing all blank values with \n",
    "\n",
    "#CreditBureau.loc[CreditBureau['hit_flag'] == 1]"
   ]
  },
  {
   "cell_type": "code",
   "execution_count": 82,
   "metadata": {},
   "outputs": [
    {
     "data": {
      "text/plain": [
       "8.0      3495\n",
       "9.0      3490\n",
       "7.0      3388\n",
       "10.0     3222\n",
       "113.0    3133\n",
       "6.0      2978\n",
       "11.0     2905\n",
       "12.0     2571\n",
       "5.0      2497\n",
       "13.0     2235\n",
       "4.0      1960\n",
       "14.0     1812\n",
       "3.0      1605\n",
       "15.0     1508\n",
       "16.0     1218\n",
       "2.0      1080\n",
       "17.0     1079\n",
       "18.0      936\n",
       "19.0      798\n",
       "20.0      699\n",
       "21.0      691\n",
       "1.0       652\n",
       "23.0      602\n",
       "22.0      589\n",
       "24.0      568\n",
       "46.0      551\n",
       "41.0      545\n",
       "25.0      538\n",
       "48.0      530\n",
       "47.0      527\n",
       "         ... \n",
       "82.0      134\n",
       "84.0      134\n",
       "86.0      128\n",
       "85.0      118\n",
       "87.0      109\n",
       "88.0       96\n",
       "90.0       92\n",
       "93.0       85\n",
       "89.0       82\n",
       "92.0       76\n",
       "91.0       75\n",
       "98.0       58\n",
       "95.0       55\n",
       "103.0      54\n",
       "94.0       52\n",
       "96.0       52\n",
       "104.0      45\n",
       "106.0      45\n",
       "102.0      44\n",
       "108.0      43\n",
       "100.0      43\n",
       "101.0      42\n",
       "105.0      42\n",
       "112.0      41\n",
       "107.0      39\n",
       "97.0       38\n",
       "99.0       36\n",
       "111.0      36\n",
       "109.0      33\n",
       "110.0      30\n",
       "Name: CCUtil, Length: 114, dtype: int64"
      ]
     },
     "execution_count": 82,
     "metadata": {},
     "output_type": "execute_result"
    }
   ],
   "source": [
    "CreditBureau['CCUtil'].value_counts()"
   ]
  },
  {
   "cell_type": "code",
   "execution_count": 83,
   "metadata": {},
   "outputs": [],
   "source": [
    "##Filling blank values of Credit card utilisation as 0s (to be used in conjunction with hit flag)\n",
    "#CreditBureau['CCUtil'] = CreditBureau['CCUtil'].fillna(0)"
   ]
  },
  {
   "cell_type": "code",
   "execution_count": 84,
   "metadata": {},
   "outputs": [
    {
     "data": {
      "text/plain": [
       "Application ID        0\n",
       "90DPD6                0\n",
       "60DPD6                0\n",
       "30DPD6                0\n",
       "90DPD12               0\n",
       "60DPD12               0\n",
       "30DPD12               0\n",
       "CCUtil             1058\n",
       "tradeOpen6            1\n",
       "tradeOpen12           0\n",
       "PLtradeOpen6          0\n",
       "PLtradeOpen12         0\n",
       "NoInq6                0\n",
       "NoInq12               0\n",
       "OpenHomeLoan        272\n",
       "OutstandBalance     272\n",
       "TotTrades             0\n",
       "OpenAutoLoan          0\n",
       "Perf_Tag           1425\n",
       "hit_flag              0\n",
       "dtype: int64"
      ]
     },
     "execution_count": 84,
     "metadata": {},
     "output_type": "execute_result"
    }
   ],
   "source": [
    "CreditBureau.isnull().sum()"
   ]
  },
  {
   "cell_type": "markdown",
   "metadata": {},
   "source": [
    "compute WOE and IV"
   ]
  },
  {
   "cell_type": "code",
   "execution_count": 85,
   "metadata": {},
   "outputs": [
    {
     "data": {
      "text/plain": [
       "Application ID              0\n",
       "Age                         0\n",
       "Gender                      2\n",
       "Mar_status                  6\n",
       "No of dependents            3\n",
       "Income                      0\n",
       "Education                 119\n",
       "Profession                 14\n",
       "Typ_residence               8\n",
       "NoMonthsCurrResidence       0\n",
       "NoMonthsCurrCompany         0\n",
       "Perf_Tag                 1425\n",
       "dtype: int64"
      ]
     },
     "execution_count": 85,
     "metadata": {},
     "output_type": "execute_result"
    }
   ],
   "source": [
    "demographic.isnull().sum()"
   ]
  },
  {
   "cell_type": "code",
   "execution_count": 86,
   "metadata": {},
   "outputs": [],
   "source": [
    "App_Id = demographic['Application ID']\n"
   ]
  },
  {
   "cell_type": "code",
   "execution_count": 87,
   "metadata": {},
   "outputs": [],
   "source": [
    "demographic.drop('Application ID', axis=1, inplace=True)"
   ]
  },
  {
   "cell_type": "code",
   "execution_count": 88,
   "metadata": {},
   "outputs": [
    {
     "name": "stdout",
     "output_type": "stream",
     "text": [
      "Information value of Age is 0.004168\n",
      "  Variable          Cutoff     N  Events  % of Events  Non-Events  \\\n",
      "0      Age  (-3.001, 31.0]  7274   302.0     0.102442      6972.0   \n",
      "1      Age    (31.0, 36.0]  7866   342.0     0.116011      7524.0   \n",
      "2      Age    (36.0, 39.0]  7146   320.0     0.108548      6826.0   \n",
      "3      Age    (39.0, 42.0]  7003   310.0     0.105156      6693.0   \n",
      "4      Age    (42.0, 45.0]  6879   278.0     0.094301      6601.0   \n",
      "5      Age    (45.0, 48.0]  6869   299.0     0.101425      6570.0   \n",
      "6      Age    (48.0, 51.0]  6791   267.0     0.090570      6524.0   \n",
      "7      Age    (51.0, 54.0]  6786   248.0     0.084125      6538.0   \n",
      "8      Age    (54.0, 58.0]  6408   290.0     0.098372      6118.0   \n",
      "9      Age    (58.0, 65.0]  6848   292.0     0.099050      6556.0   \n",
      "\n",
      "   % of Non-Events       WoE        IV  \n",
      "0         0.104181 -0.016830  0.000029  \n",
      "1         0.112429  0.031358  0.000112  \n",
      "2         0.101999  0.062228  0.000408  \n",
      "3         0.100012  0.050156  0.000258  \n",
      "4         0.098637 -0.044955  0.000195  \n",
      "5         0.098174  0.032575  0.000106  \n",
      "6         0.097487 -0.073594  0.000509  \n",
      "7         0.097696 -0.149557  0.002030  \n",
      "8         0.091420  0.073291  0.000510  \n",
      "9         0.097965  0.011019  0.000012  \n",
      "Information value of Gender is 0.00032\n",
      "  Variable Cutoff      N  Events  % of Events  Non-Events  % of Non-Events  \\\n",
      "0   Gender      F  16506   718.0     0.243555     15788.0         0.235923   \n",
      "1   Gender      M  53362  2230.0     0.756445     51132.0         0.764077   \n",
      "\n",
      "        WoE        IV  \n",
      "0  0.031835  0.000243  \n",
      "1 -0.010038  0.000077  \n",
      "Information value of Mar_status is 9.2e-05\n",
      "     Variable   Cutoff      N  Events  % of Events  Non-Events  \\\n",
      "0  Mar_status  Married  59547  2503.0      0.84905     57044.0   \n",
      "1  Mar_status   Single  10317   445.0      0.15095      9872.0   \n",
      "\n",
      "   % of Non-Events       WoE        IV  \n",
      "0         0.852472 -0.004022  0.000014  \n",
      "1         0.147528  0.022928  0.000078  \n",
      "Information value of No of dependents is 0.002658\n",
      "           Variable  Cutoff      N  Events  % of Events  Non-Events  \\\n",
      "0  No of dependents     1.0  15218   667.0     0.226255     14551.0   \n",
      "1  No of dependents     2.0  15128   588.0     0.199457     14540.0   \n",
      "2  No of dependents     3.0  15645   695.0     0.235753     14950.0   \n",
      "3  No of dependents     4.0  12000   494.0     0.167571     11506.0   \n",
      "4  No of dependents     5.0  11876   504.0     0.170963     11372.0   \n",
      "\n",
      "   % of Non-Events       WoE        IV  \n",
      "0         0.217442  0.039731  0.000350  \n",
      "1         0.217278 -0.085576  0.001525  \n",
      "2         0.223404  0.053801  0.000664  \n",
      "3         0.171939 -0.025732  0.000112  \n",
      "4         0.169937  0.006023  0.000006  \n",
      "Information value of Income is 0.042251\n",
      "  Variable         Cutoff     N  Events  % of Events  Non-Events  \\\n",
      "0   Income  (-0.501, 6.0]  7647   451.0     0.152985      7196.0   \n",
      "1   Income    (6.0, 11.0]  6515   314.0     0.106513      6201.0   \n",
      "2   Income   (11.0, 16.0]  6603   304.0     0.103121      6299.0   \n",
      "3   Income   (16.0, 21.0]  6803   310.0     0.105156      6493.0   \n",
      "4   Income   (21.0, 27.0]  8158   352.0     0.119403      7806.0   \n",
      "5   Income   (27.0, 32.0]  6837   299.0     0.101425      6538.0   \n",
      "6   Income   (32.0, 37.0]  6851   251.0     0.085142      6600.0   \n",
      "7   Income   (37.0, 42.0]  6598   214.0     0.072592      6384.0   \n",
      "8   Income   (42.0, 49.0]  7393   265.0     0.089891      7128.0   \n",
      "9   Income   (49.0, 60.0]  6465   188.0     0.063772      6277.0   \n",
      "\n",
      "   % of Non-Events       WoE        IV  \n",
      "0         0.107528  0.352588  0.016028  \n",
      "1         0.092660  0.139328  0.001930  \n",
      "2         0.094125  0.091282  0.000821  \n",
      "3         0.097023  0.080493  0.000655  \n",
      "4         0.116643  0.023384  0.000065  \n",
      "5         0.097696  0.037458  0.000140  \n",
      "6         0.098622 -0.146971  0.001981  \n",
      "7         0.095395 -0.273173  0.006229  \n",
      "8         0.106512 -0.169655  0.002820  \n",
      "9         0.093796 -0.385805  0.011583  \n",
      "Information value of Education is 0.000766\n",
      "    Variable        Cutoff      N  Events  % of Events  Non-Events  \\\n",
      "0  Education      Bachelor  17302   742.0     0.252124     16560.0   \n",
      "1  Education       Masters  23481   998.0     0.339110     22483.0   \n",
      "2  Education        Others    119     8.0     0.002718       111.0   \n",
      "3  Education           Phd   4464   184.0     0.062521      4280.0   \n",
      "4  Education  Professional  24386  1011.0     0.343527     23375.0   \n",
      "\n",
      "   % of Non-Events       WoE        IV  \n",
      "0         0.247871  0.017012  0.000072  \n",
      "1         0.336527  0.007647  0.000020  \n",
      "2         0.001661  0.492320  0.000520  \n",
      "3         0.064063 -0.024364  0.000038  \n",
      "4         0.349878 -0.018319  0.000116  \n",
      "Information value of Profession  is 0.002279\n",
      "      Variable   Cutoff      N  Events  % of Events  Non-Events  \\\n",
      "0  Profession       SAL  39674  1629.0     0.552578     38045.0   \n",
      "1  Profession        SE  13927   642.0     0.217775     13285.0   \n",
      "2  Profession   SE_PROF  16256   677.0     0.229647     15579.0   \n",
      "\n",
      "   % of Non-Events       WoE        IV  \n",
      "0         0.568608 -0.028597  0.000458  \n",
      "1         0.198553  0.092404  0.001776  \n",
      "2         0.232839 -0.013801  0.000044  \n",
      "Information value of Typ_residence is 0.000917\n",
      "        Variable               Cutoff      N  Events  % of Events  Non-Events  \\\n",
      "0  Typ_residence     Company provided   1603    73.0     0.024763      1530.0   \n",
      "1  Typ_residence  Living with Parents   1778    80.0     0.027137      1698.0   \n",
      "2  Typ_residence               Others    198     5.0     0.001696       193.0   \n",
      "3  Typ_residence                Owned  14003   593.0     0.201153     13410.0   \n",
      "4  Typ_residence               Rented  52280  2197.0     0.745251     50083.0   \n",
      "\n",
      "   % of Non-Events       WoE        IV  \n",
      "0         0.022865  0.079718  0.000151  \n",
      "1         0.025376  0.067102  0.000118  \n",
      "2         0.002884 -0.530971  0.000631  \n",
      "3         0.200406  0.003720  0.000003  \n",
      "4         0.748468 -0.004308  0.000014  \n",
      "Information value of NoMonthsCurrResidence is 0.066591\n",
      "                Variable         Cutoff      N  Events  % of Events  \\\n",
      "0  NoMonthsCurrResidence  (5.999, 11.0]  35464  1186.0     0.402307   \n",
      "1  NoMonthsCurrResidence   (11.0, 29.0]   6539   431.0     0.146201   \n",
      "2  NoMonthsCurrResidence   (29.0, 49.0]   6826   383.0     0.129919   \n",
      "3  NoMonthsCurrResidence   (49.0, 72.0]   6988   335.0     0.113636   \n",
      "4  NoMonthsCurrResidence   (72.0, 98.0]   7211   343.0     0.116350   \n",
      "5  NoMonthsCurrResidence  (98.0, 126.0]   6842   270.0     0.091588   \n",
      "\n",
      "   Non-Events  % of Non-Events       WoE        IV  \n",
      "0     34278.0         0.512208 -0.241517  0.026543  \n",
      "1      6108.0         0.091270  0.471154  0.025881  \n",
      "2      6443.0         0.096276  0.299686  0.010082  \n",
      "3      6653.0         0.099414  0.133708  0.001902  \n",
      "4      6868.0         0.102627  0.125503  0.001722  \n",
      "5      6572.0         0.098204 -0.069751  0.000461  \n",
      "Information value of NoMonthsCurrCompany is 0.022536\n",
      "              Variable         Cutoff     N  Events  % of Events  Non-Events  \\\n",
      "0  NoMonthsCurrCompany   (2.999, 6.0]  7656   356.0     0.120760      7300.0   \n",
      "1  NoMonthsCurrCompany    (6.0, 13.0]  6848   344.0     0.116689      6504.0   \n",
      "2  NoMonthsCurrCompany   (13.0, 20.0]  6878   350.0     0.118725      6528.0   \n",
      "3  NoMonthsCurrCompany   (20.0, 27.0]  7035   297.0     0.100746      6738.0   \n",
      "4  NoMonthsCurrCompany   (27.0, 34.0]  7038   278.0     0.094301      6760.0   \n",
      "5  NoMonthsCurrCompany   (34.0, 40.4]  6171   271.0     0.091927      5900.0   \n",
      "6  NoMonthsCurrCompany   (40.4, 47.0]  7218   258.0     0.087517      6960.0   \n",
      "7  NoMonthsCurrCompany   (47.0, 54.0]  7232   250.0     0.084803      6982.0   \n",
      "8  NoMonthsCurrCompany   (54.0, 62.0]  7654   259.0     0.087856      7395.0   \n",
      "9  NoMonthsCurrCompany  (62.0, 133.0]  6140   285.0     0.096676      5855.0   \n",
      "\n",
      "   % of Non-Events       WoE            IV  \n",
      "0         0.109082  0.101702  1.187636e-03  \n",
      "1         0.097188  0.182870  3.566237e-03  \n",
      "2         0.097546  0.196478  4.161044e-03  \n",
      "3         0.100684  0.000615  3.803146e-08  \n",
      "4         0.101013 -0.068756  4.614851e-04  \n",
      "5         0.088162  0.041812  1.573967e-04  \n",
      "6         0.104002 -0.172574  2.844839e-03  \n",
      "7         0.104330 -0.207229  4.046593e-03  \n",
      "8         0.110502 -0.229331  5.193328e-03  \n",
      "9         0.087490  0.099839  9.170981e-04  \n",
      "                Variable        IV\n",
      "0                    Age  0.004168\n",
      "0                 Gender  0.000320\n",
      "0             Mar_status  0.000092\n",
      "0       No of dependents  0.002658\n",
      "0                 Income  0.042251\n",
      "0              Education  0.000766\n",
      "0            Profession   0.002279\n",
      "0          Typ_residence  0.000917\n",
      "0  NoMonthsCurrResidence  0.066591\n",
      "0    NoMonthsCurrCompany  0.022536\n",
      "                Variable               Cutoff      N  Events  % of Events  \\\n",
      "0                    Age       (-3.001, 31.0]   7274   302.0     0.102442   \n",
      "1                    Age         (31.0, 36.0]   7866   342.0     0.116011   \n",
      "2                    Age         (36.0, 39.0]   7146   320.0     0.108548   \n",
      "3                    Age         (39.0, 42.0]   7003   310.0     0.105156   \n",
      "4                    Age         (42.0, 45.0]   6879   278.0     0.094301   \n",
      "5                    Age         (45.0, 48.0]   6869   299.0     0.101425   \n",
      "6                    Age         (48.0, 51.0]   6791   267.0     0.090570   \n",
      "7                    Age         (51.0, 54.0]   6786   248.0     0.084125   \n",
      "8                    Age         (54.0, 58.0]   6408   290.0     0.098372   \n",
      "9                    Age         (58.0, 65.0]   6848   292.0     0.099050   \n",
      "0                 Gender                    F  16506   718.0     0.243555   \n",
      "1                 Gender                    M  53362  2230.0     0.756445   \n",
      "0             Mar_status              Married  59547  2503.0     0.849050   \n",
      "1             Mar_status               Single  10317   445.0     0.150950   \n",
      "0       No of dependents                    1  15218   667.0     0.226255   \n",
      "1       No of dependents                    2  15128   588.0     0.199457   \n",
      "2       No of dependents                    3  15645   695.0     0.235753   \n",
      "3       No of dependents                    4  12000   494.0     0.167571   \n",
      "4       No of dependents                    5  11876   504.0     0.170963   \n",
      "0                 Income        (-0.501, 6.0]   7647   451.0     0.152985   \n",
      "1                 Income          (6.0, 11.0]   6515   314.0     0.106513   \n",
      "2                 Income         (11.0, 16.0]   6603   304.0     0.103121   \n",
      "3                 Income         (16.0, 21.0]   6803   310.0     0.105156   \n",
      "4                 Income         (21.0, 27.0]   8158   352.0     0.119403   \n",
      "5                 Income         (27.0, 32.0]   6837   299.0     0.101425   \n",
      "6                 Income         (32.0, 37.0]   6851   251.0     0.085142   \n",
      "7                 Income         (37.0, 42.0]   6598   214.0     0.072592   \n",
      "8                 Income         (42.0, 49.0]   7393   265.0     0.089891   \n",
      "9                 Income         (49.0, 60.0]   6465   188.0     0.063772   \n",
      "0              Education             Bachelor  17302   742.0     0.252124   \n",
      "1              Education              Masters  23481   998.0     0.339110   \n",
      "2              Education               Others    119     8.0     0.002718   \n",
      "3              Education                  Phd   4464   184.0     0.062521   \n",
      "4              Education         Professional  24386  1011.0     0.343527   \n",
      "0            Profession                   SAL  39674  1629.0     0.552578   \n",
      "1            Profession                    SE  13927   642.0     0.217775   \n",
      "2            Profession               SE_PROF  16256   677.0     0.229647   \n",
      "0          Typ_residence     Company provided   1603    73.0     0.024763   \n",
      "1          Typ_residence  Living with Parents   1778    80.0     0.027137   \n",
      "2          Typ_residence               Others    198     5.0     0.001696   \n",
      "3          Typ_residence                Owned  14003   593.0     0.201153   \n",
      "4          Typ_residence               Rented  52280  2197.0     0.745251   \n",
      "0  NoMonthsCurrResidence        (5.999, 11.0]  35464  1186.0     0.402307   \n",
      "1  NoMonthsCurrResidence         (11.0, 29.0]   6539   431.0     0.146201   \n",
      "2  NoMonthsCurrResidence         (29.0, 49.0]   6826   383.0     0.129919   \n",
      "3  NoMonthsCurrResidence         (49.0, 72.0]   6988   335.0     0.113636   \n",
      "4  NoMonthsCurrResidence         (72.0, 98.0]   7211   343.0     0.116350   \n",
      "5  NoMonthsCurrResidence        (98.0, 126.0]   6842   270.0     0.091588   \n",
      "0    NoMonthsCurrCompany         (2.999, 6.0]   7656   356.0     0.120760   \n",
      "1    NoMonthsCurrCompany          (6.0, 13.0]   6848   344.0     0.116689   \n",
      "2    NoMonthsCurrCompany         (13.0, 20.0]   6878   350.0     0.118725   \n",
      "3    NoMonthsCurrCompany         (20.0, 27.0]   7035   297.0     0.100746   \n",
      "4    NoMonthsCurrCompany         (27.0, 34.0]   7038   278.0     0.094301   \n",
      "5    NoMonthsCurrCompany         (34.0, 40.4]   6171   271.0     0.091927   \n",
      "6    NoMonthsCurrCompany         (40.4, 47.0]   7218   258.0     0.087517   \n",
      "7    NoMonthsCurrCompany         (47.0, 54.0]   7232   250.0     0.084803   \n",
      "8    NoMonthsCurrCompany         (54.0, 62.0]   7654   259.0     0.087856   \n",
      "9    NoMonthsCurrCompany        (62.0, 133.0]   6140   285.0     0.096676   \n",
      "\n",
      "   Non-Events  % of Non-Events       WoE            IV  \n",
      "0      6972.0         0.104181 -0.016830  2.926084e-05  \n",
      "1      7524.0         0.112429  0.031358  1.123086e-04  \n",
      "2      6826.0         0.101999  0.062228  4.075181e-04  \n",
      "3      6693.0         0.100012  0.050156  2.580046e-04  \n",
      "4      6601.0         0.098637 -0.044955  1.949228e-04  \n",
      "5      6570.0         0.098174  0.032575  1.058924e-04  \n",
      "6      6524.0         0.097487 -0.073594  5.090278e-04  \n",
      "7      6538.0         0.097696 -0.149557  2.029638e-03  \n",
      "8      6118.0         0.091420  0.073291  5.095141e-04  \n",
      "9      6556.0         0.097965  0.011019  1.195974e-05  \n",
      "0     15788.0         0.235923  0.031835  2.429478e-04  \n",
      "1     51132.0         0.764077 -0.010038  7.660490e-05  \n",
      "0     57044.0         0.852472 -0.004022  1.376066e-05  \n",
      "1      9872.0         0.147528  0.022928  7.844819e-05  \n",
      "0     14551.0         0.217442  0.039731  3.501536e-04  \n",
      "1     14540.0         0.217278 -0.085576  1.524991e-03  \n",
      "2     14950.0         0.223404  0.053801  6.643719e-04  \n",
      "3     11506.0         0.171939 -0.025732  1.123987e-04  \n",
      "4     11372.0         0.169937  0.006023  6.182813e-06  \n",
      "0      7196.0         0.107528  0.352588  1.602754e-02  \n",
      "1      6201.0         0.092660  0.139328  1.930079e-03  \n",
      "2      6299.0         0.094125  0.091282  8.211992e-04  \n",
      "3      6493.0         0.097023  0.080493  6.546215e-04  \n",
      "4      7806.0         0.116643  0.023384  6.453354e-05  \n",
      "5      6538.0         0.097696  0.037458  1.396752e-04  \n",
      "6      6600.0         0.098622 -0.146971  1.981143e-03  \n",
      "7      6384.0         0.095395 -0.273173  6.229186e-03  \n",
      "8      7128.0         0.106512 -0.169655  2.819775e-03  \n",
      "9      6277.0         0.093796 -0.385805  1.158329e-02  \n",
      "0     16560.0         0.247871  0.017012  7.235075e-05  \n",
      "1     22483.0         0.336527  0.007647  1.975365e-05  \n",
      "2       111.0         0.001661  0.492320  5.203139e-04  \n",
      "3      4280.0         0.064063 -0.024364  3.756931e-05  \n",
      "4     23375.0         0.349878 -0.018319  1.163427e-04  \n",
      "0     38045.0         0.568608 -0.028597  4.584097e-04  \n",
      "1     13285.0         0.198553  0.092404  1.776143e-03  \n",
      "2     15579.0         0.232839 -0.013801  4.404580e-05  \n",
      "0      1530.0         0.022865  0.079718  1.512548e-04  \n",
      "1      1698.0         0.025376  0.067102  1.181783e-04  \n",
      "2       193.0         0.002884 -0.530971  6.309179e-04  \n",
      "3     13410.0         0.200406  0.003720  2.777963e-06  \n",
      "4     50083.0         0.748468 -0.004308  1.385825e-05  \n",
      "0     34278.0         0.512208 -0.241517  2.654307e-02  \n",
      "1      6108.0         0.091270  0.471154  2.588068e-02  \n",
      "2      6443.0         0.096276  0.299686  1.008214e-02  \n",
      "3      6653.0         0.099414  0.133708  1.901614e-03  \n",
      "4      6868.0         0.102627  0.125503  1.722294e-03  \n",
      "5      6572.0         0.098204 -0.069751  4.614961e-04  \n",
      "0      7300.0         0.109082  0.101702  1.187636e-03  \n",
      "1      6504.0         0.097188  0.182870  3.566237e-03  \n",
      "2      6528.0         0.097546  0.196478  4.161044e-03  \n",
      "3      6738.0         0.100684  0.000615  3.803146e-08  \n",
      "4      6760.0         0.101013 -0.068756  4.614851e-04  \n",
      "5      5900.0         0.088162  0.041812  1.573967e-04  \n",
      "6      6960.0         0.104002 -0.172574  2.844839e-03  \n",
      "7      6982.0         0.104330 -0.207229  4.046593e-03  \n",
      "8      7395.0         0.110502 -0.229331  5.193328e-03  \n",
      "9      5855.0         0.087490  0.099839  9.170981e-04  \n"
     ]
    }
   ],
   "source": [
    "def iv_woe(data, target, bins=10, show_woe=False):\n",
    "    \n",
    "    #Empty Dataframe\n",
    "    newDF,woeDF = pd.DataFrame(), pd.DataFrame()\n",
    "    \n",
    "    #Extract Column Names\n",
    "    cols = data.columns\n",
    "    \n",
    "    \n",
    "    #Run WOE and IV on all the independent variables\n",
    "    for ivars in cols[~cols.isin([target])]:\n",
    "        if (data[ivars].dtype.kind in 'bifc') and (len(np.unique(data[ivars]))>10):\n",
    "            binned_x = pd.qcut(data[ivars], bins,  duplicates='drop')\n",
    "            d0 = pd.DataFrame({'x': binned_x, 'y': data[target]})\n",
    "        else:\n",
    "            d0 = pd.DataFrame({'x': data[ivars], 'y': data[target]})\n",
    "        d = d0.groupby(\"x\", as_index=False).agg({\"y\": [\"count\", \"sum\"]})\n",
    "        d.columns = ['Cutoff', 'N', 'Events']\n",
    "        d['% of Events'] = np.maximum(d['Events'], 0.5) / d['Events'].sum()\n",
    "        d['Non-Events'] = d['N'] - d['Events']\n",
    "        d['% of Non-Events'] = np.maximum(d['Non-Events'], 0.5) / d['Non-Events'].sum()\n",
    "        d['WoE'] = np.log(d['% of Events']/d['% of Non-Events'])\n",
    "        d['IV'] = d['WoE'] * (d['% of Events'] - d['% of Non-Events'])\n",
    "        d.insert(loc=0, column='Variable', value=ivars)\n",
    "        print(\"Information value of \" + ivars + \" is \" + str(round(d['IV'].sum(),6)))\n",
    "        temp =pd.DataFrame({\"Variable\" : [ivars], \"IV\" : [d['IV'].sum()]}, columns = [\"Variable\", \"IV\"])\n",
    "        newDF=pd.concat([newDF,temp], axis=0)\n",
    "        woeDF=pd.concat([woeDF,d], axis=0)\n",
    "\n",
    "        #Show WOE Table\n",
    "        if show_woe == True:\n",
    "            print(d)\n",
    "    return newDF, woeDF\n",
    "\n",
    "iv, woe = iv_woe(data = demographic, target = 'Perf_Tag', bins=10, show_woe = True)\n",
    "print(iv)\n",
    "print(woe)"
   ]
  },
  {
   "cell_type": "markdown",
   "metadata": {},
   "source": [
    "Information Value\tPredictive Power\n",
    "\n",
    "1. < 0.02\tuseless for prediction\n",
    "2. 0.02 to 0.1\tWeak predictor\n",
    "3. 0.1 to 0.3\tMedium predictor\n",
    "4. 0.3 to 0.5\tStrong predictor\n",
    "5. >0.5\tSuspicious or too good to be true\n",
    "\n",
    "-           Variable        IV\n",
    "-                    Age  0.004168\n",
    "-                 Gender  0.000320\n",
    "-             Mar_status  0.000092-\n",
    "-       No of dependents  0.002658\n",
    "-                 Income  0.042251\n",
    "-              Education  0.000766\n",
    "-            Profession   0.002279\n",
    "-          Typ_residence  0.000917\n",
    "-  NoMonthsCurrResidence  0.066591\n",
    "\n",
    "So variables with relevant predictive power:  Income and NoMonthsCurrResidence (which are weak predictors)"
   ]
  },
  {
   "cell_type": "code",
   "execution_count": 89,
   "metadata": {
    "scrolled": true
   },
   "outputs": [
    {
     "data": {
      "text/plain": [
       "array(['Age', 'Gender', 'Mar_status', 'No of dependents', 'Income',\n",
       "       'Education', 'Profession ', 'Typ_residence',\n",
       "       'NoMonthsCurrResidence', 'NoMonthsCurrCompany', 'Perf_Tag'],\n",
       "      dtype=object)"
      ]
     },
     "execution_count": 89,
     "metadata": {},
     "output_type": "execute_result"
    }
   ],
   "source": [
    "demographic.columns.values"
   ]
  },
  {
   "cell_type": "code",
   "execution_count": 90,
   "metadata": {},
   "outputs": [],
   "source": [
    "#Exploratory data Analysis\n",
    "#First extracting the records which have blank perf_tag to another file.\n",
    "demographic_cleaned = demographic[~np.isnan(demographic.Perf_Tag)]"
   ]
  },
  {
   "cell_type": "code",
   "execution_count": 91,
   "metadata": {},
   "outputs": [
    {
     "data": {
      "text/plain": [
       "(69870, 11)"
      ]
     },
     "execution_count": 91,
     "metadata": {},
     "output_type": "execute_result"
    }
   ],
   "source": [
    "demographic_cleaned.shape"
   ]
  },
  {
   "cell_type": "markdown",
   "metadata": {},
   "source": [
    "-Application ID              0\n",
    "-Age                         0\n",
    "-Gender                      2\n",
    "-Mar_status                  6\n",
    "-No of dependents            3\n",
    "-Income                      0\n",
    "-Education                 119\n",
    "-Profession                 14\n",
    "-Typ_residence               8\n",
    "-NoMonthsCurrResidence       0\n",
    "-NoMonthsCurrCompany         0\n",
    "-Perf_Tag                 1425"
   ]
  },
  {
   "cell_type": "code",
   "execution_count": 97,
   "metadata": {},
   "outputs": [
    {
     "data": {
      "text/plain": [
       "M    54458\n",
       "F    16837\n",
       "Name: Gender, dtype: int64"
      ]
     },
     "execution_count": 97,
     "metadata": {},
     "output_type": "execute_result"
    }
   ],
   "source": [
    "#Taking care of other null values\n",
    "# Gender\n",
    "demographic['Gender'].value_counts(dropna=False)"
   ]
  },
  {
   "cell_type": "code",
   "execution_count": 96,
   "metadata": {},
   "outputs": [],
   "source": [
    "#Majority of applicants are male, so convertinf the two Nan s to 'M'\n",
    "demographic['Gender'].fillna('M', inplace=True)"
   ]
  },
  {
   "cell_type": "code",
   "execution_count": 98,
   "metadata": {},
   "outputs": [
    {
     "data": {
      "text/plain": [
       "Married    60730\n",
       "Single     10559\n",
       "NaN            6\n",
       "Name: Mar_status, dtype: int64"
      ]
     },
     "execution_count": 98,
     "metadata": {},
     "output_type": "execute_result"
    }
   ],
   "source": [
    "#Mar_status\n",
    "demographic['Mar_status'].value_counts(dropna=False)"
   ]
  },
  {
   "cell_type": "code",
   "execution_count": 99,
   "metadata": {},
   "outputs": [],
   "source": [
    "#Majority of applicants are married, so converting the two Nan s to 'M'\n",
    "demographic['Mar_status'].fillna('Married', inplace=True)"
   ]
  },
  {
   "cell_type": "code",
   "execution_count": 100,
   "metadata": {},
   "outputs": [
    {
     "data": {
      "text/plain": [
       " 3.0    16279\n",
       " 1.0    15387\n",
       " 2.0    15289\n",
       " 4.0    12222\n",
       " 5.0    12115\n",
       "NaN         3\n",
       "Name: No of dependents, dtype: int64"
      ]
     },
     "execution_count": 100,
     "metadata": {},
     "output_type": "execute_result"
    }
   ],
   "source": [
    "#No of dependents \n",
    "demographic['No of dependents'].value_counts(dropna=False)"
   ]
  },
  {
   "cell_type": "code",
   "execution_count": 104,
   "metadata": {},
   "outputs": [],
   "source": [
    "#defaulting to value 3\n",
    "demographic['No of dependents'].fillna(3.0, inplace=True)"
   ]
  },
  {
   "cell_type": "code",
   "execution_count": 113,
   "metadata": {},
   "outputs": [
    {
     "data": {
      "text/plain": [
       "Professional    24839\n",
       "Masters         23970\n",
       "Bachelor        17697\n",
       "Phd              4549\n",
       "Others            121\n",
       "NaN               119\n",
       "Name: Education, dtype: int64"
      ]
     },
     "execution_count": 113,
     "metadata": {},
     "output_type": "execute_result"
    }
   ],
   "source": [
    "#No of dependents \n",
    "demographic['Education'].value_counts(dropna=False)"
   ]
  },
  {
   "cell_type": "code",
   "execution_count": 108,
   "metadata": {},
   "outputs": [],
   "source": [
    "#Extracting the 119 values to another DF for analysis\n",
    "\n",
    "education_null = demographic[pd.isnull(demographic.Education)]"
   ]
  },
  {
   "cell_type": "code",
   "execution_count": 109,
   "metadata": {},
   "outputs": [
    {
     "data": {
      "text/plain": [
       "(119, 11)"
      ]
     },
     "execution_count": 109,
     "metadata": {},
     "output_type": "execute_result"
    }
   ],
   "source": [
    "education_null.shape"
   ]
  },
  {
   "cell_type": "code",
   "execution_count": 114,
   "metadata": {},
   "outputs": [
    {
     "data": {
      "text/plain": [
       "Index(['Age', 'Gender', 'Mar_status', 'No of dependents', 'Income',\n",
       "       'Education', 'Profession ', 'Typ_residence', 'NoMonthsCurrResidence',\n",
       "       'NoMonthsCurrCompany', 'Perf_Tag'],\n",
       "      dtype='object')"
      ]
     },
     "execution_count": 114,
     "metadata": {},
     "output_type": "execute_result"
    }
   ],
   "source": [
    "education_null.columns\n"
   ]
  },
  {
   "cell_type": "code",
   "execution_count": 115,
   "metadata": {},
   "outputs": [
    {
     "data": {
      "text/plain": [
       "SAL        59\n",
       "SE_PROF    37\n",
       "SE         23\n",
       "Name: Profession , dtype: int64"
      ]
     },
     "execution_count": 115,
     "metadata": {},
     "output_type": "execute_result"
    }
   ],
   "source": [
    "education_null['Profession '].value_counts(dropna=False)"
   ]
  },
  {
   "cell_type": "code",
   "execution_count": 116,
   "metadata": {},
   "outputs": [],
   "source": [
    "#All are self employed, salaried or professional so can be safelu updated as the majority value professional\n",
    "demographic['Education'].fillna('Professional', inplace=True)"
   ]
  },
  {
   "cell_type": "code",
   "execution_count": 117,
   "metadata": {},
   "outputs": [
    {
     "data": {
      "text/plain": [
       "Rented                 53397\n",
       "Owned                  14243\n",
       "Living with Parents     1818\n",
       "Company provided        1630\n",
       "Others                   199\n",
       "NaN                        8\n",
       "Name: Typ_residence, dtype: int64"
      ]
     },
     "execution_count": 117,
     "metadata": {},
     "output_type": "execute_result"
    }
   ],
   "source": [
    "#Typ_residence\n",
    "demographic['Typ_residence'].value_counts(dropna=False)"
   ]
  },
  {
   "cell_type": "code",
   "execution_count": 118,
   "metadata": {},
   "outputs": [],
   "source": [
    "#Updating to max value Rented\n",
    "\n",
    "demographic['Typ_residence'].fillna('Rented', inplace=True)"
   ]
  },
  {
   "cell_type": "markdown",
   "metadata": {},
   "source": [
    "## Checking each variable"
   ]
  },
  {
   "cell_type": "code",
   "execution_count": 120,
   "metadata": {},
   "outputs": [
    {
     "data": {
      "image/png": "[encoded data removed]",
      "text/plain": [
       "<Figure size 432x288 with 1 Axes>"
      ]
     },
     "metadata": {},
     "output_type": "display_data"
    }
   ],
   "source": [
    "sns.boxplot(x='Age', data=demographic)\n",
    "plt.show()"
   ]
  },
  {
   "cell_type": "code",
   "execution_count": null,
   "metadata": {},
   "outputs": [],
   "source": [
    "#Deleting record with afe -3 and 0"
   ]
  }
 ],
 "metadata": {
  "kernelspec": {
   "display_name": "Python 3",
   "language": "python",
   "name": "python3"
  },
  "language_info": {
   "codemirror_mode": {
    "name": "ipython",
    "version": 3
   },
   "file_extension": ".py",
   "mimetype": "text/x-python",
   "name": "python",
   "nbconvert_exporter": "python",
   "pygments_lexer": "ipython3",
   "version": "3.7.0"
  }
 },
 "nbformat": 4,
 "nbformat_minor": 2
}
